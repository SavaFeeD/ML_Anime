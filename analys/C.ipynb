{
 "cells": [
  {
   "cell_type": "markdown",
   "id": "3ce905b7",
   "metadata": {},
   "source": [
    "### Quest: Divide anime into groups and find a model to classify groups, predict anime rating.\n",
    "\n",
    "> To-do list:\n",
    ">1. Analitics\n",
    "2. Preprosessing\n",
    "3. Clustering\n",
    "4. Classification\n",
    "5. Regression"
   ]
  },
  {
   "cell_type": "code",
   "execution_count": 21,
   "id": "c68db152",
   "metadata": {
    "scrolled": false
   },
   "outputs": [],
   "source": [
    "# ! pip install seaborn"
   ]
  },
  {
   "cell_type": "code",
   "execution_count": 62,
   "id": "870863bb",
   "metadata": {},
   "outputs": [],
   "source": [
    "import pandas as pd\n",
    "import numpy as np\n",
    "import seaborn as sns\n",
    "import matplotlib.pyplot as ptl\n",
    "from collections import Counter"
   ]
  },
  {
   "cell_type": "markdown",
   "id": "62a94edc",
   "metadata": {},
   "source": [
    "# Unpack the archive with dataset"
   ]
  },
  {
   "cell_type": "code",
   "execution_count": 18,
   "id": "09c107b0",
   "metadata": {
    "scrolled": false
   },
   "outputs": [
    {
     "data": {
      "text/html": [
       "<div>\n",
       "<style scoped>\n",
       "    .dataframe tbody tr th:only-of-type {\n",
       "        vertical-align: middle;\n",
       "    }\n",
       "\n",
       "    .dataframe tbody tr th {\n",
       "        vertical-align: top;\n",
       "    }\n",
       "\n",
       "    .dataframe thead th {\n",
       "        text-align: right;\n",
       "    }\n",
       "</style>\n",
       "<table border=\"1\" class=\"dataframe\">\n",
       "  <thead>\n",
       "    <tr style=\"text-align: right;\">\n",
       "      <th></th>\n",
       "      <th>title</th>\n",
       "      <th>mediaType</th>\n",
       "      <th>eps</th>\n",
       "      <th>duration</th>\n",
       "      <th>ongoing</th>\n",
       "      <th>startYr</th>\n",
       "      <th>finishYr</th>\n",
       "      <th>sznOfRelease</th>\n",
       "      <th>description</th>\n",
       "      <th>studios</th>\n",
       "      <th>tags</th>\n",
       "      <th>contentWarn</th>\n",
       "      <th>watched</th>\n",
       "      <th>watching</th>\n",
       "      <th>wantWatch</th>\n",
       "      <th>dropped</th>\n",
       "      <th>rating</th>\n",
       "      <th>votes</th>\n",
       "    </tr>\n",
       "  </thead>\n",
       "  <tbody>\n",
       "    <tr>\n",
       "      <th>0</th>\n",
       "      <td>Fullmetal Alchemist: Brotherhood</td>\n",
       "      <td>TV</td>\n",
       "      <td>64.0</td>\n",
       "      <td>NaN</td>\n",
       "      <td>False</td>\n",
       "      <td>2009.0</td>\n",
       "      <td>2010.0</td>\n",
       "      <td>Spring</td>\n",
       "      <td>The foundation of alchemy is based on the law ...</td>\n",
       "      <td>['Bones']</td>\n",
       "      <td>['Action', 'Adventure', 'Drama', 'Fantasy', 'M...</td>\n",
       "      <td>['Animal Abuse', 'Mature Themes', 'Violence', ...</td>\n",
       "      <td>103707.0</td>\n",
       "      <td>14351</td>\n",
       "      <td>25810</td>\n",
       "      <td>2656</td>\n",
       "      <td>4.702</td>\n",
       "      <td>86547.0</td>\n",
       "    </tr>\n",
       "    <tr>\n",
       "      <th>1</th>\n",
       "      <td>your name.</td>\n",
       "      <td>Movie</td>\n",
       "      <td>1.0</td>\n",
       "      <td>107.0</td>\n",
       "      <td>False</td>\n",
       "      <td>2016.0</td>\n",
       "      <td>2016.0</td>\n",
       "      <td>NaN</td>\n",
       "      <td>Mitsuha and Taki are two total strangers livin...</td>\n",
       "      <td>['CoMix Wave Films']</td>\n",
       "      <td>['Drama', 'Romance', 'Body Swapping', 'Gender ...</td>\n",
       "      <td>[]</td>\n",
       "      <td>58831.0</td>\n",
       "      <td>1453</td>\n",
       "      <td>21733</td>\n",
       "      <td>124</td>\n",
       "      <td>4.663</td>\n",
       "      <td>43960.0</td>\n",
       "    </tr>\n",
       "    <tr>\n",
       "      <th>2</th>\n",
       "      <td>A Silent Voice</td>\n",
       "      <td>Movie</td>\n",
       "      <td>1.0</td>\n",
       "      <td>130.0</td>\n",
       "      <td>False</td>\n",
       "      <td>2016.0</td>\n",
       "      <td>2016.0</td>\n",
       "      <td>NaN</td>\n",
       "      <td>After transferring into a new school, a deaf g...</td>\n",
       "      <td>['Kyoto Animation']</td>\n",
       "      <td>['Drama', 'Shounen', 'Disability', 'Melancholy...</td>\n",
       "      <td>['Bullying', 'Mature Themes', 'Suicide']</td>\n",
       "      <td>45892.0</td>\n",
       "      <td>946</td>\n",
       "      <td>17148</td>\n",
       "      <td>132</td>\n",
       "      <td>4.661</td>\n",
       "      <td>33752.0</td>\n",
       "    </tr>\n",
       "    <tr>\n",
       "      <th>3</th>\n",
       "      <td>Haikyuu!! Karasuno High School vs Shiratorizaw...</td>\n",
       "      <td>TV</td>\n",
       "      <td>10.0</td>\n",
       "      <td>NaN</td>\n",
       "      <td>False</td>\n",
       "      <td>2016.0</td>\n",
       "      <td>2016.0</td>\n",
       "      <td>Fall</td>\n",
       "      <td>Picking up where the second season ended, the ...</td>\n",
       "      <td>['Production I.G']</td>\n",
       "      <td>['Shounen', 'Sports', 'Animeism', 'School Club...</td>\n",
       "      <td>[]</td>\n",
       "      <td>25134.0</td>\n",
       "      <td>2183</td>\n",
       "      <td>8082</td>\n",
       "      <td>167</td>\n",
       "      <td>4.660</td>\n",
       "      <td>17422.0</td>\n",
       "    </tr>\n",
       "    <tr>\n",
       "      <th>4</th>\n",
       "      <td>Attack on Titan 3rd Season: Part II</td>\n",
       "      <td>TV</td>\n",
       "      <td>10.0</td>\n",
       "      <td>NaN</td>\n",
       "      <td>False</td>\n",
       "      <td>2019.0</td>\n",
       "      <td>2019.0</td>\n",
       "      <td>Spring</td>\n",
       "      <td>The battle to retake Wall Maria begins now! Wi...</td>\n",
       "      <td>['Wit Studio']</td>\n",
       "      <td>['Action', 'Fantasy', 'Horror', 'Shounen', 'Da...</td>\n",
       "      <td>['Cannibalism', 'Explicit Violence']</td>\n",
       "      <td>21308.0</td>\n",
       "      <td>3217</td>\n",
       "      <td>7864</td>\n",
       "      <td>174</td>\n",
       "      <td>4.650</td>\n",
       "      <td>15789.0</td>\n",
       "    </tr>\n",
       "  </tbody>\n",
       "</table>\n",
       "</div>"
      ],
      "text/plain": [
       "                                               title mediaType   eps  \\\n",
       "0                   Fullmetal Alchemist: Brotherhood        TV  64.0   \n",
       "1                                         your name.     Movie   1.0   \n",
       "2                                     A Silent Voice     Movie   1.0   \n",
       "3  Haikyuu!! Karasuno High School vs Shiratorizaw...        TV  10.0   \n",
       "4                Attack on Titan 3rd Season: Part II        TV  10.0   \n",
       "\n",
       "   duration  ongoing  startYr  finishYr sznOfRelease  \\\n",
       "0       NaN    False   2009.0    2010.0       Spring   \n",
       "1     107.0    False   2016.0    2016.0          NaN   \n",
       "2     130.0    False   2016.0    2016.0          NaN   \n",
       "3       NaN    False   2016.0    2016.0         Fall   \n",
       "4       NaN    False   2019.0    2019.0       Spring   \n",
       "\n",
       "                                         description               studios  \\\n",
       "0  The foundation of alchemy is based on the law ...             ['Bones']   \n",
       "1  Mitsuha and Taki are two total strangers livin...  ['CoMix Wave Films']   \n",
       "2  After transferring into a new school, a deaf g...   ['Kyoto Animation']   \n",
       "3  Picking up where the second season ended, the ...    ['Production I.G']   \n",
       "4  The battle to retake Wall Maria begins now! Wi...        ['Wit Studio']   \n",
       "\n",
       "                                                tags  \\\n",
       "0  ['Action', 'Adventure', 'Drama', 'Fantasy', 'M...   \n",
       "1  ['Drama', 'Romance', 'Body Swapping', 'Gender ...   \n",
       "2  ['Drama', 'Shounen', 'Disability', 'Melancholy...   \n",
       "3  ['Shounen', 'Sports', 'Animeism', 'School Club...   \n",
       "4  ['Action', 'Fantasy', 'Horror', 'Shounen', 'Da...   \n",
       "\n",
       "                                         contentWarn   watched  watching  \\\n",
       "0  ['Animal Abuse', 'Mature Themes', 'Violence', ...  103707.0     14351   \n",
       "1                                                 []   58831.0      1453   \n",
       "2           ['Bullying', 'Mature Themes', 'Suicide']   45892.0       946   \n",
       "3                                                 []   25134.0      2183   \n",
       "4               ['Cannibalism', 'Explicit Violence']   21308.0      3217   \n",
       "\n",
       "   wantWatch  dropped  rating    votes  \n",
       "0      25810     2656   4.702  86547.0  \n",
       "1      21733      124   4.663  43960.0  \n",
       "2      17148      132   4.661  33752.0  \n",
       "3       8082      167   4.660  17422.0  \n",
       "4       7864      174   4.650  15789.0  "
      ]
     },
     "execution_count": 18,
     "metadata": {},
     "output_type": "execute_result"
    }
   ],
   "source": [
    "df = pd.read_csv('./data/anime.csv')\n",
    "df.head()"
   ]
  },
  {
   "cell_type": "markdown",
   "id": "ceaa1a10",
   "metadata": {},
   "source": [
    "## Analytics"
   ]
  },
  {
   "cell_type": "markdown",
   "id": "da832f84",
   "metadata": {},
   "source": [
    "### Anotation on all dataset"
   ]
  },
  {
   "cell_type": "code",
   "execution_count": 91,
   "id": "65ba9a45",
   "metadata": {
    "scrolled": true
   },
   "outputs": [
    {
     "data": {
      "text/plain": [
       "(14578, 18)"
      ]
     },
     "execution_count": 91,
     "metadata": {},
     "output_type": "execute_result"
    }
   ],
   "source": [
    "df.shape"
   ]
  },
  {
   "cell_type": "markdown",
   "id": "cd46edf0",
   "metadata": {},
   "source": [
    "dataset has 14578 columns and 18 rows"
   ]
  },
  {
   "cell_type": "markdown",
   "id": "a9b1d566",
   "metadata": {},
   "source": [
    "#### Type datas in columns"
   ]
  },
  {
   "cell_type": "code",
   "execution_count": 93,
   "id": "c5515eb8",
   "metadata": {
    "scrolled": true
   },
   "outputs": [
    {
     "data": {
      "text/plain": [
       "title            object\n",
       "mediaType        object\n",
       "eps             float64\n",
       "duration        float64\n",
       "ongoing            bool\n",
       "startYr         float64\n",
       "finishYr        float64\n",
       "sznOfRelease     object\n",
       "description      object\n",
       "studios          object\n",
       "tags             object\n",
       "contentWarn      object\n",
       "watched         float64\n",
       "watching          int64\n",
       "wantWatch         int64\n",
       "dropped           int64\n",
       "rating          float64\n",
       "votes           float64\n",
       "dtype: object"
      ]
     },
     "execution_count": 93,
     "metadata": {},
     "output_type": "execute_result"
    }
   ],
   "source": [
    "df.dtypes"
   ]
  },
  {
   "cell_type": "markdown",
   "id": "7f6556b1",
   "metadata": {},
   "source": [
    "we have columns whith number, bool type data and object (heap types) "
   ]
  },
  {
   "cell_type": "code",
   "execution_count": 90,
   "id": "4de3a437",
   "metadata": {
    "scrolled": false
   },
   "outputs": [
    {
     "data": {
      "text/plain": [
       "title               0\n",
       "mediaType          68\n",
       "eps               359\n",
       "duration         5441\n",
       "ongoing             0\n",
       "startYr           222\n",
       "finishYr          444\n",
       "sznOfRelease    10811\n",
       "description      6405\n",
       "studios             0\n",
       "tags                0\n",
       "contentWarn         0\n",
       "watched           222\n",
       "watching            0\n",
       "wantWatch           0\n",
       "dropped             0\n",
       "rating           2471\n",
       "votes            2459\n",
       "dtype: int64"
      ]
     },
     "execution_count": 90,
     "metadata": {},
     "output_type": "execute_result"
    }
   ],
   "source": [
    "df.isnull().sum(axis=0)"
   ]
  },
  {
   "cell_type": "markdown",
   "id": "586fd4c0",
   "metadata": {},
   "source": [
    "in most columns we have null data\n",
    "\n",
    "but null data in column sznOfRelease > 1/2 count rows in all dataset"
   ]
  },
  {
   "cell_type": "markdown",
   "id": "9393e975",
   "metadata": {},
   "source": [
    "### Description columns"
   ]
  },
  {
   "cell_type": "markdown",
   "id": "24353e3f",
   "metadata": {},
   "source": [
    "* **title**: title anime \n",
    "* **mediaType**: display format anime (TV/Movie)\n",
    "* **eps**: count episodes\n",
    "* **duration**: duration episodes\n",
    "* **ongoing**: if unfinished anime (true), else (false)\n",
    "* **startYr**: year start filming anime\n",
    "* **finishYr**: year finish filming anime\n",
    "* **sznOfRelease**: season of realease amine\n",
    "* **description**: desc anime\n",
    "* **studios**: studios filming anime\n",
    "* **tags**: anime related tags\n",
    "* **contentWarn**: content tags\n",
    "* **watched**: watched (status)\n",
    "* **watching**: watching (status)\n",
    "* **wantWatch**: want watch (status)\n",
    "* **dropped**: dropped (status)\n",
    "* **rating**: rating\n",
    "* **votes**: votes"
   ]
  },
  {
   "cell_type": "markdown",
   "id": "9682f46a",
   "metadata": {},
   "source": [
    "### Analysis number columns"
   ]
  },
  {
   "cell_type": "code",
   "execution_count": 97,
   "id": "2779e880",
   "metadata": {
    "scrolled": true
   },
   "outputs": [
    {
     "data": {
      "text/html": [
       "<div>\n",
       "<style scoped>\n",
       "    .dataframe tbody tr th:only-of-type {\n",
       "        vertical-align: middle;\n",
       "    }\n",
       "\n",
       "    .dataframe tbody tr th {\n",
       "        vertical-align: top;\n",
       "    }\n",
       "\n",
       "    .dataframe thead th {\n",
       "        text-align: right;\n",
       "    }\n",
       "</style>\n",
       "<table border=\"1\" class=\"dataframe\">\n",
       "  <thead>\n",
       "    <tr style=\"text-align: right;\">\n",
       "      <th></th>\n",
       "      <th>eps</th>\n",
       "      <th>duration</th>\n",
       "      <th>startYr</th>\n",
       "      <th>finishYr</th>\n",
       "      <th>watched</th>\n",
       "      <th>watching</th>\n",
       "      <th>wantWatch</th>\n",
       "      <th>dropped</th>\n",
       "      <th>rating</th>\n",
       "      <th>votes</th>\n",
       "    </tr>\n",
       "  </thead>\n",
       "  <tbody>\n",
       "    <tr>\n",
       "      <th>count</th>\n",
       "      <td>14219.000000</td>\n",
       "      <td>9137.000000</td>\n",
       "      <td>14356.000000</td>\n",
       "      <td>14134.000000</td>\n",
       "      <td>14356.000000</td>\n",
       "      <td>14578.000000</td>\n",
       "      <td>14578.000000</td>\n",
       "      <td>14578.000000</td>\n",
       "      <td>12107.000000</td>\n",
       "      <td>12119.000000</td>\n",
       "    </tr>\n",
       "    <tr>\n",
       "      <th>mean</th>\n",
       "      <td>13.501231</td>\n",
       "      <td>23.465142</td>\n",
       "      <td>2005.457788</td>\n",
       "      <td>2005.515919</td>\n",
       "      <td>2408.043396</td>\n",
       "      <td>213.026684</td>\n",
       "      <td>1021.729112</td>\n",
       "      <td>125.963026</td>\n",
       "      <td>2.948697</td>\n",
       "      <td>2085.787771</td>\n",
       "    </tr>\n",
       "    <tr>\n",
       "      <th>std</th>\n",
       "      <td>62.262185</td>\n",
       "      <td>30.777048</td>\n",
       "      <td>14.707105</td>\n",
       "      <td>14.656509</td>\n",
       "      <td>7168.368428</td>\n",
       "      <td>1261.707640</td>\n",
       "      <td>2145.010604</td>\n",
       "      <td>453.577348</td>\n",
       "      <td>0.827642</td>\n",
       "      <td>5946.283685</td>\n",
       "    </tr>\n",
       "    <tr>\n",
       "      <th>min</th>\n",
       "      <td>1.000000</td>\n",
       "      <td>1.000000</td>\n",
       "      <td>1907.000000</td>\n",
       "      <td>1907.000000</td>\n",
       "      <td>0.000000</td>\n",
       "      <td>0.000000</td>\n",
       "      <td>0.000000</td>\n",
       "      <td>0.000000</td>\n",
       "      <td>0.844000</td>\n",
       "      <td>10.000000</td>\n",
       "    </tr>\n",
       "    <tr>\n",
       "      <th>25%</th>\n",
       "      <td>1.000000</td>\n",
       "      <td>3.000000</td>\n",
       "      <td>2000.000000</td>\n",
       "      <td>2000.000000</td>\n",
       "      <td>25.000000</td>\n",
       "      <td>1.000000</td>\n",
       "      <td>24.000000</td>\n",
       "      <td>1.000000</td>\n",
       "      <td>2.303500</td>\n",
       "      <td>34.000000</td>\n",
       "    </tr>\n",
       "    <tr>\n",
       "      <th>50%</th>\n",
       "      <td>1.000000</td>\n",
       "      <td>8.000000</td>\n",
       "      <td>2010.000000</td>\n",
       "      <td>2010.000000</td>\n",
       "      <td>165.000000</td>\n",
       "      <td>7.000000</td>\n",
       "      <td>175.000000</td>\n",
       "      <td>7.000000</td>\n",
       "      <td>2.965000</td>\n",
       "      <td>218.000000</td>\n",
       "    </tr>\n",
       "    <tr>\n",
       "      <th>75%</th>\n",
       "      <td>12.000000</td>\n",
       "      <td>29.000000</td>\n",
       "      <td>2016.000000</td>\n",
       "      <td>2016.000000</td>\n",
       "      <td>1469.500000</td>\n",
       "      <td>63.000000</td>\n",
       "      <td>980.000000</td>\n",
       "      <td>40.000000</td>\n",
       "      <td>3.615500</td>\n",
       "      <td>1412.500000</td>\n",
       "    </tr>\n",
       "    <tr>\n",
       "      <th>max</th>\n",
       "      <td>2527.000000</td>\n",
       "      <td>235.000000</td>\n",
       "      <td>2026.000000</td>\n",
       "      <td>2026.000000</td>\n",
       "      <td>161567.000000</td>\n",
       "      <td>74537.000000</td>\n",
       "      <td>28541.000000</td>\n",
       "      <td>19481.000000</td>\n",
       "      <td>4.702000</td>\n",
       "      <td>131067.000000</td>\n",
       "    </tr>\n",
       "  </tbody>\n",
       "</table>\n",
       "</div>"
      ],
      "text/plain": [
       "                eps     duration       startYr      finishYr        watched  \\\n",
       "count  14219.000000  9137.000000  14356.000000  14134.000000   14356.000000   \n",
       "mean      13.501231    23.465142   2005.457788   2005.515919    2408.043396   \n",
       "std       62.262185    30.777048     14.707105     14.656509    7168.368428   \n",
       "min        1.000000     1.000000   1907.000000   1907.000000       0.000000   \n",
       "25%        1.000000     3.000000   2000.000000   2000.000000      25.000000   \n",
       "50%        1.000000     8.000000   2010.000000   2010.000000     165.000000   \n",
       "75%       12.000000    29.000000   2016.000000   2016.000000    1469.500000   \n",
       "max     2527.000000   235.000000   2026.000000   2026.000000  161567.000000   \n",
       "\n",
       "           watching     wantWatch       dropped        rating          votes  \n",
       "count  14578.000000  14578.000000  14578.000000  12107.000000   12119.000000  \n",
       "mean     213.026684   1021.729112    125.963026      2.948697    2085.787771  \n",
       "std     1261.707640   2145.010604    453.577348      0.827642    5946.283685  \n",
       "min        0.000000      0.000000      0.000000      0.844000      10.000000  \n",
       "25%        1.000000     24.000000      1.000000      2.303500      34.000000  \n",
       "50%        7.000000    175.000000      7.000000      2.965000     218.000000  \n",
       "75%       63.000000    980.000000     40.000000      3.615500    1412.500000  \n",
       "max    74537.000000  28541.000000  19481.000000      4.702000  131067.000000  "
      ]
     },
     "execution_count": 97,
     "metadata": {},
     "output_type": "execute_result"
    }
   ],
   "source": [
    "df.describe()"
   ]
  },
  {
   "cell_type": "markdown",
   "id": "b812f7d4",
   "metadata": {},
   "source": [
    "### Analysis object columns"
   ]
  },
  {
   "cell_type": "code",
   "execution_count": 172,
   "id": "38f3999e",
   "metadata": {},
   "outputs": [],
   "source": [
    "def analysis_object_column(col):\n",
    "    print('Null:', df[col].isnull().sum(), f'({round(df[col].isnull().sum()/df.shape[0]*100)}%)')\n",
    "    print('------------------------------------------------------')\n",
    "    unique_count = len(df[col].unique())\n",
    "    print(f'Unique: {unique_count} ({round(unique_count/df.shape[0]*100)}%)')\n",
    "    if (unique_count < df.shape[0] * 0.8):\n",
    "        if (unique_count > 30):\n",
    "            print('30 classes < and < 80%')\n",
    "        else:\n",
    "            print(df[col].unique())\n",
    "    print('------------------------------------------------------')\n",
    "    for i in range(3):\n",
    "        print(f'{i})', type(df[col].iloc[i]), df[col].iloc[i])"
   ]
  },
  {
   "cell_type": "markdown",
   "id": "0796abf2",
   "metadata": {},
   "source": [
    "#### title"
   ]
  },
  {
   "cell_type": "code",
   "execution_count": 173,
   "id": "6e1610ad",
   "metadata": {
    "scrolled": true
   },
   "outputs": [
    {
     "name": "stdout",
     "output_type": "stream",
     "text": [
      "Null: 0 (0%)\n",
      "------------------------------------------------------\n",
      "Unique: 14578 (100%)\n",
      "------------------------------------------------------\n",
      "0) <class 'str'> Fullmetal Alchemist: Brotherhood\n",
      "1) <class 'str'> your name.\n",
      "2) <class 'str'> A Silent Voice\n"
     ]
    }
   ],
   "source": [
    "analysis_object_column('title')"
   ]
  },
  {
   "cell_type": "markdown",
   "id": "8d71746e",
   "metadata": {},
   "source": [
    "column is filled with unique values"
   ]
  },
  {
   "cell_type": "markdown",
   "id": "038801be",
   "metadata": {},
   "source": [
    "#### mediaType"
   ]
  },
  {
   "cell_type": "code",
   "execution_count": 175,
   "id": "c9a06d6c",
   "metadata": {
    "scrolled": true
   },
   "outputs": [
    {
     "name": "stdout",
     "output_type": "stream",
     "text": [
      "Null: 68 (0%)\n",
      "------------------------------------------------------\n",
      "Unique: 9 (0%)\n",
      "['TV' 'Movie' 'Web' 'TV Special' 'OVA' nan 'DVD Special' 'Other'\n",
      " 'Music Video']\n",
      "------------------------------------------------------\n",
      "0) <class 'str'> TV\n",
      "1) <class 'str'> Movie\n",
      "2) <class 'str'> Movie\n"
     ]
    }
   ],
   "source": [
    "analysis_object_column('mediaType')"
   ]
  },
  {
   "cell_type": "markdown",
   "id": "940e98fe",
   "metadata": {},
   "source": [
    "column filled with such classes: TV, Movie, Web, TV Special, OVA, DVD Special, Other, Music Video.\n",
    "\n",
    "row with null we connot fill"
   ]
  },
  {
   "cell_type": "markdown",
   "id": "998650c8",
   "metadata": {},
   "source": [
    "#### sznOfRelease"
   ]
  },
  {
   "cell_type": "code",
   "execution_count": 176,
   "id": "0d0ad092",
   "metadata": {
    "scrolled": false
   },
   "outputs": [
    {
     "name": "stdout",
     "output_type": "stream",
     "text": [
      "Null: 10811 (74%)\n",
      "------------------------------------------------------\n",
      "Unique: 5 (0%)\n",
      "['Spring' nan 'Fall' 'Winter' 'Summer']\n",
      "------------------------------------------------------\n",
      "0) <class 'str'> Spring\n",
      "1) <class 'float'> nan\n",
      "2) <class 'float'> nan\n"
     ]
    }
   ],
   "source": [
    "analysis_object_column('sznOfRelease')"
   ]
  },
  {
   "cell_type": "markdown",
   "id": "a7780914",
   "metadata": {},
   "source": [
    "column has many null value\n",
    "\n",
    "season of realease not relevant to the definition of a cluster"
   ]
  },
  {
   "cell_type": "markdown",
   "id": "658816a7",
   "metadata": {},
   "source": [
    "#### description"
   ]
  },
  {
   "cell_type": "code",
   "execution_count": 177,
   "id": "3e09815d",
   "metadata": {
    "scrolled": false
   },
   "outputs": [
    {
     "name": "stdout",
     "output_type": "stream",
     "text": [
      "Null: 6405 (44%)\n",
      "------------------------------------------------------\n",
      "Unique: 8109 (56%)\n",
      "30 classes < and < 80%\n",
      "------------------------------------------------------\n",
      "0) <class 'str'> The foundation of alchemy is based on the law of equivalent exchange; you cannot produce something from nothing. As such, alchemy is bound by one taboo - human transmutation. Four years ago two young brothers, Edward and Alphonse Elric, broke this taboo when they tried to resurrect their dead mother. During the process Al's body disintegrated and Ed lost his leg. In a desperate attempt to prevent his brother from disappearing completely, Ed sacrificed one of his arms so he could affix Al's soul to a suit of armor. When his missing limbs are replaced by auto mail parts, Ed bears the name of the Fullmetal Alchemist - the youngest ever State Alchemist and dog of the military. Now, alongside his brother, Ed uses his status within the military to attempt to find any way that he can return their bodies back to their original state.\n",
      "1) <class 'str'> Mitsuha and Taki are two total strangers living completely different lives. But when Mitsuha makes a wish to leave her mountain town and for the bustling city of Tokyo, they become connected in a bizarre way. She dreams she is a boy living in Tokyo while Taki dreams he is a girl from a rural town he’s never been to. What does their newfound connection mean? And how will it bring them together?\n",
      "2) <class 'str'> After transferring into a new school, a deaf girl, Shouko Nishimiya, is bullied by the popular Shouya Ishida. As Shouya continues to bully Shoko, the class turns its back on him. Shouko transfers and Shoya grows up as an outcast. Alone and depressed, the regretful Shouya finds Shouko to make amends. \n"
     ]
    }
   ],
   "source": [
    "analysis_object_column('description')"
   ]
  },
  {
   "cell_type": "markdown",
   "id": "3da6990f",
   "metadata": {},
   "source": [
    "all values is text or null\n",
    "\n",
    "row with null we connot fill"
   ]
  },
  {
   "cell_type": "markdown",
   "id": "4daccbbd",
   "metadata": {},
   "source": [
    "#### studios"
   ]
  },
  {
   "cell_type": "code",
   "execution_count": 178,
   "id": "010fc912",
   "metadata": {
    "scrolled": true
   },
   "outputs": [
    {
     "name": "stdout",
     "output_type": "stream",
     "text": [
      "Null: 0 (0%)\n",
      "------------------------------------------------------\n",
      "Unique: 864 (6%)\n",
      "30 classes < and < 80%\n",
      "------------------------------------------------------\n",
      "0) <class 'str'> ['Bones']\n",
      "1) <class 'str'> ['CoMix Wave Films']\n",
      "2) <class 'str'> ['Kyoto Animation']\n"
     ]
    }
   ],
   "source": [
    "analysis_object_column('studios')"
   ]
  },
  {
   "cell_type": "markdown",
   "id": "3add831b",
   "metadata": {},
   "source": [
    "rows consist of string with studios name list\n",
    "\n",
    "need split strings on studios name lists"
   ]
  },
  {
   "cell_type": "markdown",
   "id": "ebc34eb3",
   "metadata": {},
   "source": [
    "#### tags"
   ]
  },
  {
   "cell_type": "code",
   "execution_count": 179,
   "id": "d081c169",
   "metadata": {
    "scrolled": false
   },
   "outputs": [
    {
     "name": "stdout",
     "output_type": "stream",
     "text": [
      "Null: 0 (0%)\n",
      "------------------------------------------------------\n",
      "Unique: 9580 (66%)\n",
      "30 classes < and < 80%\n",
      "------------------------------------------------------\n",
      "0) <class 'str'> ['Action', 'Adventure', 'Drama', 'Fantasy', 'Mystery', 'Shounen', 'Conspiracy', 'Military', 'Siblings', 'Based on a Manga']\n",
      "1) <class 'str'> ['Drama', 'Romance', 'Body Swapping', 'Gender Bender', 'Opposites Attract', 'School Life', 'Supernatural', 'Original Work']\n",
      "2) <class 'str'> ['Drama', 'Shounen', 'Disability', 'Melancholy', 'Mental Illness', 'School Life', 'Based on a Manga']\n"
     ]
    }
   ],
   "source": [
    "analysis_object_column('tags')"
   ]
  },
  {
   "cell_type": "markdown",
   "id": "05b19938",
   "metadata": {},
   "source": [
    "rows consist of string with tag name list\n",
    "\n",
    "need split strings on tag name lists"
   ]
  },
  {
   "cell_type": "markdown",
   "id": "d0b8caa7",
   "metadata": {},
   "source": [
    "#### contentWarn"
   ]
  },
  {
   "cell_type": "code",
   "execution_count": 180,
   "id": "1bef7e82",
   "metadata": {
    "scrolled": true
   },
   "outputs": [
    {
     "name": "stdout",
     "output_type": "stream",
     "text": [
      "Null: 0 (0%)\n",
      "------------------------------------------------------\n",
      "Unique: 178 (1%)\n",
      "30 classes < and < 80%\n",
      "------------------------------------------------------\n",
      "0) <class 'str'> ['Animal Abuse', 'Mature Themes', 'Violence', 'Domestic Abuse']\n",
      "1) <class 'str'> []\n",
      "2) <class 'str'> ['Bullying', 'Mature Themes', 'Suicide']\n"
     ]
    }
   ],
   "source": [
    "analysis_object_column('contentWarn')"
   ]
  },
  {
   "cell_type": "markdown",
   "id": "3d16c2d5",
   "metadata": {},
   "source": [
    "rows consist of string with content tags list\n",
    "\n",
    "need split strings on content tags list"
   ]
  },
  {
   "cell_type": "code",
   "execution_count": null,
   "id": "888669aa",
   "metadata": {},
   "outputs": [],
   "source": []
  }
 ],
 "metadata": {
  "kernelspec": {
   "display_name": "Python 3",
   "language": "python",
   "name": "python3"
  },
  "language_info": {
   "codemirror_mode": {
    "name": "ipython",
    "version": 3
   },
   "file_extension": ".py",
   "mimetype": "text/x-python",
   "name": "python",
   "nbconvert_exporter": "python",
   "pygments_lexer": "ipython3",
   "version": "3.8.8"
  }
 },
 "nbformat": 4,
 "nbformat_minor": 5
}
